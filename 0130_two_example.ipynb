{
 "cells": [
  {
   "cell_type": "code",
   "execution_count": 65,
   "metadata": {
    "collapsed": true
   },
   "outputs": [],
   "source": [
    "#import numpy as np\n",
    "import pandas as pd\n",
    "import matplotlib.pyplot as plt"
   ]
  },
  {
   "cell_type": "code",
   "execution_count": 66,
   "outputs": [],
   "source": [
    "# The first part is to build the framework of our linked list.\n",
    "# For this part, it is not my original work.\n",
    "# I borrow it from the data structure and algorithm course provided by Professor Chen Bin of PKU on MOOC.\n",
    "\n",
    "class Vertex:\n",
    "    def __init__(self, key):\n",
    "        self.id = key\n",
    "        self.connectedTo = {}\n",
    "\n",
    "    def addNeighbor(self, nbr):\n",
    "        self.connectedTo[nbr] = 1\n",
    "\n",
    "    def __str__(self):\n",
    "        return str(self.id) + 'connectedTo: ' + str([x.id for x in self.connectedTo])\n",
    "\n",
    "    def getConnections(self):\n",
    "        return self.connectedTo.keys()\n",
    "\n",
    "    def getId(self):\n",
    "        return self.id\n",
    "\n",
    "    def getWeight(self, nbr):\n",
    "        return self.connectedTo[nbr]\n",
    "\n",
    "class Graph:\n",
    "    def __init__(self):\n",
    "        self.vertList = {}\n",
    "        self.numVertices = 0\n",
    "\n",
    "    def addVertex(self, key):\n",
    "        self.numVertices = self.numVertices + 1\n",
    "        newVertex = Vertex(key)\n",
    "        self.vertList[key] = newVertex\n",
    "        return newVertex\n",
    "\n",
    "    def getVertex(self, n):\n",
    "        if n in self.vertList:\n",
    "            return self.vertList[n]\n",
    "        else:\n",
    "            return None\n",
    "\n",
    "    def __contains__(self, n):\n",
    "        return n in self.vertList\n",
    "\n",
    "    def addEdge(self, f, t):\n",
    "        if f not in self.vertList:\n",
    "            nv = self.addVertex(f)\n",
    "        if t not in self.vertList:\n",
    "            nv = self.addVertex(t)\n",
    "        self.vertList[f].addNeighbor(self.vertList[t])\n",
    "        self.vertList[t].addNeighbor(self.vertList[f])\n",
    "\n",
    "    def getVertices(self):\n",
    "        return self.vertList.keys()\n",
    "\n",
    "    def __iter__(self):\n",
    "        return iter(self.vertList.values())"
   ],
   "metadata": {
    "collapsed": false,
    "pycharm": {
     "name": "#%%\n"
    }
   }
  },
  {
   "cell_type": "code",
   "execution_count": 67,
   "outputs": [],
   "source": [
    "# After building the framework, we can import the data and fill in the linked list\n",
    "\n",
    "data_h = pd.read_table(\"Homophyly.txt\", header=None)\n",
    "\n",
    "# This section is to adjusted our data to two columns. The first column is x, and the second is y.\n",
    "# The reason why it looks so complicated is that the data can't be automatically added  to two columns\n",
    "# by simply write data.columns = ['x', 'y'], but I don't know why.... Anyway, it can be done by a for loop as below.\n",
    "\n",
    "data_h.columns = ['x']\n",
    "data_h['y'] = None\n",
    "for i in range(len(data_h)):\n",
    "    coordinate = data_h['x'][i].split()\n",
    "    data_h['x'][i] = coordinate[0]\n",
    "    data_h['y'][i] = coordinate[1]\n",
    "\n",
    "# Initialize our graph and add all edges.\n",
    "\n",
    "G_h = Graph()\n",
    "for i in range(len(data_h)):\n",
    "    G_h.addEdge(data_h['x'][i], data_h['y'][i])\n",
    "\n",
    "# Define a dictionary called \"dict_v_deg\", which is a dictionary with key - \"vertex\" and value - \"degree\".\n",
    "# We count the degree of each node and store the corresponding \"vertex\" and \"degree\" in dictionary \"dict_v_deg\".\n",
    "\n",
    "dict_v_deg = {}\n",
    "for v_1 in G_h:\n",
    "    count = 0\n",
    "    for v_2 in v_1.getConnections():\n",
    "        count +=1\n",
    "    dict_v_deg[v_1.getId()] = count\n",
    "\n",
    "# The next section is to extract all vertices into a set and ensure there is no repeating vertices.\n",
    "\n",
    "deg_set = set([])\n",
    "for key in dict_v_deg:\n",
    "    deg_set.add(dict_v_deg[key])\n",
    "\n",
    "# Define a dictionary called \"dict_deg_freq\", which is a dictionary with key - \"degree\" and value - \"frequency\".\n",
    "# We count the frequency of each degree and store the corresponding \"degree\" and \"frequency\" in dictionary \"dict_deg_freq\".\n",
    "\n",
    "dict_deg_freq = {}\n",
    "for deg in deg_set:\n",
    "    freq = 0\n",
    "    for key in dict_v_deg:\n",
    "        if dict_v_deg[key] == deg:\n",
    "            freq += 1\n",
    "    dict_deg_freq[deg] = freq"
   ],
   "metadata": {
    "collapsed": false,
    "pycharm": {
     "name": "#%%\n"
    }
   }
  },
  {
   "cell_type": "code",
   "execution_count": 68,
   "outputs": [
    {
     "data": {
      "text/plain": "Text(0.5, 1.0, 'Plot of Degree against Frequency for Homophyly')"
     },
     "execution_count": 68,
     "metadata": {},
     "output_type": "execute_result"
    },
    {
     "data": {
      "text/plain": "<Figure size 720x576 with 1 Axes>",
      "image/png": "[encoded data removed]"
     },
     "metadata": {
      "needs_background": "light"
     },
     "output_type": "display_data"
    }
   ],
   "source": [
    "# We can plot the figure since we've got needed points. Let's treat the degree as x-axis and the frequency as y-axis.\n",
    "\n",
    "plt.figure(figsize=(10, 8))\n",
    "for key in dict_deg_freq:\n",
    "    plt.loglog(key, dict_deg_freq[key], 'ro')\n",
    "plt.xlabel('Degree')\n",
    "plt.ylabel('Frequency')\n",
    "plt.title('Plot of Degree against Frequency for Homophyly')\n",
    "\n",
    "# Now, we've done! Congrats!"
   ],
   "metadata": {
    "collapsed": false,
    "pycharm": {
     "name": "#%%\n"
    }
   }
  },
  {
   "cell_type": "code",
   "execution_count": 69,
   "outputs": [
    {
     "name": "stdout",
     "output_type": "stream",
     "text": [
      "            0       1\n",
      "0          22  444558\n",
      "1          22  511266\n",
      "2          22  531052\n",
      "3          34   48917\n",
      "4          34   99853\n",
      "...       ...     ...\n",
      "94141  546425  547479\n",
      "94142  546592  546839\n",
      "94143  546904  547885\n",
      "94144  547146  547551\n",
      "94145  547299  547390\n",
      "\n",
      "[94146 rows x 2 columns]\n",
      "            x       y\n",
      "0          22  444558\n",
      "1          22  511266\n",
      "2          22  531052\n",
      "3          34   48917\n",
      "4          34   99853\n",
      "...       ...     ...\n",
      "94141  546425  547479\n",
      "94142  546592  546839\n",
      "94143  546904  547885\n",
      "94144  547146  547551\n",
      "94145  547299  547390\n",
      "\n",
      "[94146 rows x 2 columns]\n"
     ]
    }
   ],
   "source": [
    "# Similarly, let's perform the same process as above, except the importing data part.\n",
    "# For Amazon data, since the two columns are separated by \\t, we can read it directly.\n",
    "\n",
    "data_a = pd.read_table(\"Amazon.txt\", header=None)\n",
    "print(data_a)\n",
    "\n",
    "data_a.columns = ['x', 'y']\n",
    "print(data_a)\n",
    "\n",
    "# The following part is the same as before.\n",
    "\n",
    "G_a = Graph()\n",
    "for i in range(len(data_a)):\n",
    "    G_a.addEdge(data_a['x'][i], data_a['y'][i])\n",
    "\n",
    "dict_v_deg = {}\n",
    "for v_1 in G_a:\n",
    "    count = 0\n",
    "    for v_2 in v_1.getConnections():\n",
    "        count +=1\n",
    "    dict_v_deg[v_1.getId()] = count\n",
    "\n",
    "deg_set = set([])\n",
    "for key in dict_v_deg:\n",
    "    deg_set.add(dict_v_deg[key])\n",
    "\n",
    "dict_deg_freq = {}\n",
    "for num in deg_set:\n",
    "    freq = 0\n",
    "    for key in dict_v_deg:\n",
    "        if dict_v_deg[key] == num:\n",
    "            freq += 1\n",
    "    dict_deg_freq[num] = freq"
   ],
   "metadata": {
    "collapsed": false,
    "pycharm": {
     "name": "#%%\n"
    }
   }
  },
  {
   "cell_type": "code",
   "execution_count": 70,
   "outputs": [
    {
     "data": {
      "text/plain": "Text(0.5, 1.0, 'Plot of Degree against Frequency for Amazon')"
     },
     "execution_count": 70,
     "metadata": {},
     "output_type": "execute_result"
    },
    {
     "data": {
      "text/plain": "<Figure size 720x576 with 1 Axes>",
      "image/png": "[encoded data removed]"
     },
     "metadata": {
      "needs_background": "light"
     },
     "output_type": "display_data"
    }
   ],
   "source": [
    "plt.figure(figsize=(10, 8))\n",
    "for key in dict_deg_freq:\n",
    "    plt.loglog(key, dict_deg_freq[key], 'ro')\n",
    "plt.xlabel('Degree')\n",
    "plt.ylabel('Frequency')\n",
    "plt.title('Plot of Degree against Frequency for Amazon')"
   ],
   "metadata": {
    "collapsed": false,
    "pycharm": {
     "name": "#%%\n"
    }
   }
  }
 ],
 "metadata": {
  "kernelspec": {
   "name": "env_name",
   "language": "python",
   "display_name": "display_name"
  },
  "language_info": {
   "codemirror_mode": {
    "name": "ipython",
    "version": 2
   },
   "file_extension": ".py",
   "mimetype": "text/x-python",
   "name": "python",
   "nbconvert_exporter": "python",
   "pygments_lexer": "ipython2",
   "version": "2.7.6"
  }
 },
 "nbformat": 4,
 "nbformat_minor": 0
}